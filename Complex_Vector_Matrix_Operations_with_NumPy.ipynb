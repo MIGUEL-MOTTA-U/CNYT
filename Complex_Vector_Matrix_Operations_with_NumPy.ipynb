{
 "cells": [
  {
   "cell_type": "markdown",
   "id": "a07bd584",
   "metadata": {},
   "source": [
    "# Theory of Complex Vector Spaces\n",
    "Complex vector spaces extend the idea of real vector spaces by allowing vectors to have complex numbers as their components. In these spaces, vectors can be added together and multiplied by complex scalars to produce new vectors. Key operations in complex vector spaces include vector addition, scalar multiplication, vector negation, and complex conjugation."
   ]
  },
  {
   "cell_type": "markdown",
   "id": "f43fc972-23ab-4d81-aa26-c51325dac8f3",
   "metadata": {},
   "source": [
    "# Creating complex column vectors"
   ]
  },
  {
   "cell_type": "code",
   "execution_count": 1,
   "id": "029f08ba-1cdc-4928-9631-f62c51ab7aa5",
   "metadata": {},
   "outputs": [
    {
     "name": "stdout",
     "output_type": "stream",
     "text": [
      "Matrix:\n",
      " [[2 3]\n",
      " [1 4]]\n",
      "\n",
      "Vector:\n",
      " [5 6]\n",
      "\n",
      "Result of multiplication:\n",
      " [28 29]\n"
     ]
    }
   ],
   "source": [
    "import numpy as np\n",
    "\n",
    "# Define a 2x2 square matrix\n",
    "matrix = np.array([[2, 3],\n",
    "                   [1, 4]])\n",
    "\n",
    "# Define a vector of size 2\n",
    "vector = np.array([5, 6])\n",
    "\n",
    "# Multiply the matrix by the vector\n",
    "result = np.dot(matrix, vector)\n",
    "\n",
    "# Display the result\n",
    "print(\"Matrix:\\n\", matrix)\n",
    "print(\"\\nVector:\\n\", vector)\n",
    "print(\"\\nResult of multiplication:\\n\", result)\n"
   ]
  },
  {
   "cell_type": "markdown",
   "id": "975c2284",
   "metadata": {},
   "source": [
    "## Manipulating Complex Column Vectors using NumPy\n",
    "Here we demonstrate how to manipulate complex column vectors using NumPy, including operations like sum, negation, multiplication by a scalar, transpose, adjunct, and conjugate."
   ]
  },
  {
   "cell_type": "code",
   "execution_count": 2,
   "id": "e8058abe",
   "metadata": {},
   "outputs": [
    {
     "data": {
      "text/plain": [
       "(array([[3.+2.j],\n",
       "        [8.-2.j],\n",
       "        [5.-3.j]]),\n",
       " array([[-2.-3.j],\n",
       "        [-5.+4.j],\n",
       "        [-1.-1.j]]),\n",
       " array([[ 1.+8.j],\n",
       "        [14.-3.j],\n",
       "        [ 1.+3.j]]),\n",
       " array([[2.+3.j, 5.-4.j, 1.+1.j]]),\n",
       " array([[2.-3.j, 5.+4.j, 1.-1.j]]),\n",
       " array([[2.-3.j],\n",
       "        [5.+4.j],\n",
       "        [1.-1.j]]))"
      ]
     },
     "execution_count": 2,
     "metadata": {},
     "output_type": "execute_result"
    }
   ],
   "source": [
    "\n",
    "import numpy as np\n",
    "\n",
    "# Define two complex column vectors\n",
    "v1 = np.array([[2+3j], [5-4j], [1+1j]])\n",
    "v2 = np.array([[1-1j], [3+2j], [4-4j]])\n",
    "\n",
    "# Sum\n",
    "sum_v = v1 + v2\n",
    "\n",
    "# Negation\n",
    "neg_v1 = -v1\n",
    "\n",
    "# Multiplication by a scalar\n",
    "scalar = 2 + 1j\n",
    "mult_v1 = v1 * scalar\n",
    "\n",
    "# Transpose\n",
    "transpose_v1 = v1.T\n",
    "\n",
    "# Adjunct (Conjugate transpose)\n",
    "adjunct_v1 = v1.T.conj()\n",
    "\n",
    "# Conjugate\n",
    "conjugate_v1 = np.conjugate(v1)\n",
    "\n",
    "(sum_v, neg_v1, mult_v1, transpose_v1, adjunct_v1, conjugate_v1)\n"
   ]
  },
  {
   "cell_type": "markdown",
   "id": "995ae5fc",
   "metadata": {},
   "source": [
    "# Theory of Vector Spaces using Matrices\n",
    "In the context of matrices, vector spaces can be defined where each vector is a matrix of a particular size. Operations on these matrix-vector spaces include matrix addition, scalar multiplication, matrix negation, transpose, adjunct, and conjugate. In this section, we focus on square matrices of size 3x3."
   ]
  },
  {
   "cell_type": "markdown",
   "id": "9385c1f0",
   "metadata": {},
   "source": [
    "## Manipulating Square Matrices using NumPy\n",
    "Examples of how to manipulate 3x3 square matrices using NumPy, showing operations such as sum, negation, multiplication by a scalar, conjugate, transpose, and adjunct."
   ]
  },
  {
   "cell_type": "code",
   "execution_count": 9,
   "id": "b81ecc57",
   "metadata": {},
   "outputs": [
    {
     "data": {
      "text/plain": [
       "(array([[3.+3.j, 6.+0.j, 3.-3.j],\n",
       "        [1.+1.j, 2.+5.j, 6.-2.j],\n",
       "        [7.+3.j, 8.-2.j, 5.+3.j]]),\n",
       " array([[-2.-3.j, -4.+1.j, -0.-0.j],\n",
       "        [-1.-1.j, -3.-3.j, -5.-0.j],\n",
       "        [-4.-0.j, -6.+2.j, -1.+1.j]]),\n",
       " array([[-0.5+2.5j,  2.5+1.5j,  0. +0.j ],\n",
       "        [ 0. +1.j ,  0. +3.j ,  2.5+2.5j],\n",
       "        [ 2. +2.j ,  4. +2.j ,  1. +0.j ]]),\n",
       " array([[2.-3.j, 4.+1.j, 0.-0.j],\n",
       "        [1.-1.j, 3.-3.j, 5.-0.j],\n",
       "        [4.-0.j, 6.+2.j, 1.+1.j]]),\n",
       " array([[2.+3.j, 1.+1.j, 4.+0.j],\n",
       "        [4.-1.j, 3.+3.j, 6.-2.j],\n",
       "        [0.+0.j, 5.+0.j, 1.-1.j]]),\n",
       " array([[2.-3.j, 1.-1.j, 4.-0.j],\n",
       "        [4.+1.j, 3.-3.j, 6.+2.j],\n",
       "        [0.-0.j, 5.-0.j, 1.+1.j]]))"
      ]
     },
     "execution_count": 9,
     "metadata": {},
     "output_type": "execute_result"
    }
   ],
   "source": [
    "\n",
    "# Define two 3x3 complex matrices\n",
    "m1 = np.array([[2+3j, 4-1j, 0], \n",
    "               [1+1j, 3+3j, 5], \n",
    "               [4, 6-2j, 1-1j]])\n",
    "m2 = np.array([[1, 2+1j, 3-3j], \n",
    "               [0, -1+2j, 1-2j], \n",
    "               [3+3j, 2, 4+4j]])\n",
    "\n",
    "# Sum\n",
    "sum_m = m1 + m2\n",
    "\n",
    "# Negation\n",
    "neg_m1 = -m1\n",
    "\n",
    "# Multiplication by a scalar\n",
    "scalar = 0.5 + 0.5j\n",
    "mult_m1 = m1 * scalar\n",
    "\n",
    "# Conjugate\n",
    "conjugate_m1 = np.conjugate(m1)\n",
    "\n",
    "# Transpose\n",
    "transpose_m1 = m1.T\n",
    "\n",
    "# Adjunct (Conjugate transpose)\n",
    "adjunct_m1 = m1.T.conj()\n",
    "\n",
    "(sum_m, neg_m1, mult_m1, conjugate_m1, transpose_m1, adjunct_m1)\n"
   ]
  },
  {
   "cell_type": "markdown",
   "id": "ed909545-8a5c-4cca-85f7-48688b597598",
   "metadata": {},
   "source": [
    "## Checking the Dimension of a Matrix\n",
    "We can check the dimension of a matrix using the `.shape` attribute."
   ]
  },
  {
   "cell_type": "code",
   "execution_count": 4,
   "id": "0930dc10-af6d-427f-bbcb-75bfaf051db5",
   "metadata": {},
   "outputs": [
    {
     "data": {
      "text/plain": [
       "(3, 3)"
      ]
     },
     "execution_count": 4,
     "metadata": {},
     "output_type": "execute_result"
    }
   ],
   "source": [
    "# Checking the dimension of matrix1\n",
    "m1.shape"
   ]
  },
  {
   "cell_type": "markdown",
   "id": "b3fe896b",
   "metadata": {},
   "source": [
    "## Action of a Matrix on a Vector\n",
    "Finally, examples of how to use Python to multiply a 3x3 square matrix by a 3x1 column vector."
   ]
  },
  {
   "cell_type": "code",
   "execution_count": 5,
   "id": "e514d047",
   "metadata": {},
   "outputs": [
    {
     "data": {
      "text/plain": [
       "array([[11. -9.j],\n",
       "       [31.+13.j],\n",
       "       [32.-22.j]])"
      ]
     },
     "execution_count": 5,
     "metadata": {},
     "output_type": "execute_result"
    }
   ],
   "source": [
    "\n",
    "# Multiplying a 3x3 matrix by a 3x1 vector\n",
    "result = np.dot(m1, v1)\n",
    "result\n"
   ]
  },
  {
   "cell_type": "markdown",
   "id": "5adf9d8a-af43-4074-ab1a-3cabdc4accff",
   "metadata": {},
   "source": [
    "# Exercises on Complex Vectors and Matrices with Concrete Cases\n",
    "\n",
    "This set of exercises focuses on operations with complex column vectors and complex square matrices, including concrete cases with vectors and matrices written in LaTeX format.\n",
    "\n",
    "## Complex Column Vector Operations\n",
    "\n",
    "### Exercise 1: Sum of Two Complex Vectors\n",
    "Given two complex vectors \n",
    "$$ v1 = \\begin{bmatrix} 1 + 2i \\\\ 3 - i \\end{bmatrix} $$ \n",
    "and \n",
    "$$ v2 = \\begin{bmatrix} 2 - i \\\\ 4 + 2i \\end{bmatrix} $$, \n",
    "find their sum.\n",
    "\n",
    "### Exercise 2: Negation of a Complex Vector\n",
    "Given a complex vector \n",
    "$$ v = \\begin{bmatrix} 2 + 3i \\\\ 1 - 2i \\end{bmatrix} $$, \n",
    "find its negation.\n",
    "\n",
    "### Exercise 3: Multiplication of a Complex Vector by a Scalar\n",
    "Multiply the complex vector \n",
    "$$ v = \\begin{bmatrix} 1 - i \\\\ 2 + 2i \\end{bmatrix} $$ \n",
    "by the complex scalar $$ 3 + i $$.\n",
    "\n",
    "### Exercise 4: Transpose of a Complex Vector\n",
    "Find the transpose of the complex vector \n",
    "$$ v = \\begin{bmatrix} 2 - i \\\\ 3 + 4i \\end{bmatrix} $$.\n",
    "\n",
    "### Exercise 5: Conjugate of a Complex Vector\n",
    "Compute the conjugate of the complex vector \n",
    "$$ v = \\begin{bmatrix} 1 + i \\\\ 2 - 3i \\end{bmatrix} $$.\n",
    "\n",
    "### Exercise 6: Adjunct (Conjugate Transpose) of a Complex Vector\n",
    "Find the adjunct (or conjugate transpose) of the complex vector \n",
    "$$ v = \\begin{bmatrix} 1 - 2i \\\\ 3 + i \\end{bmatrix} $$.\n",
    "\n",
    "## Complex Square Matrix Operations\n",
    "\n",
    "### Exercise 7: Sum of Two Complex Matrices\n",
    "Given two complex matrices \n",
    "$$ m1 = \\begin{bmatrix} 1 + i & 2 - i \\\\ 3 + 2i & 4 \\end{bmatrix} $$ \n",
    "and \n",
    "$$ m2 = \\begin{bmatrix} 2 - 3i & 1 \\\\ i & 2 + 2i \\end{bmatrix} $$, \n",
    "calculate their sum.\n",
    "\n",
    "### Exercise 8: Negation of a Complex Matrix\n",
    "Find the negation of the complex matrix \n",
    "$$ m = \\begin{bmatrix} 2 + i & 3 \\\\ 1 - i & 2 + 2i \\end{bmatrix} $$.\n",
    "\n",
    "### Exercise 9: Multiplication of a Complex Matrix by a Scalar\n",
    "Multiply the complex matrix \n",
    "$$ m = \\begin{bmatrix} 1 - i & 2 \\\\ 3 + i & 4 - 2i \\end{bmatrix} $$ \n",
    "by the complex scalar $$ 2 + 3i $$.\n",
    "\n",
    "### Exercise 10: Conjugate of a Complex Matrix\n",
    "Compute the conjugate of the complex matrix \n",
    "$$ m = \\begin{bmatrix} 1 + i & 2 \\\\ 3 - i & 4 + 2i \\end{bmatrix} $$.\n",
    "\n",
    "### Exercise 11: Transpose of a Complex Matrix\n",
    "Find the transpose of the complex matrix \n",
    "$$ m = \\begin{bmatrix} 1 - i & 2 + 2i \\\\ 3 & 4 - i \\end{bmatrix} $$.\n",
    "\n",
    "### Exercise 12: Adjunct (Conjugate Transpose) of a Complex Matrix\n",
    "Calculate the adjunct (or conjugate transpose) of the complex matrix \n",
    "$$ m = \\begin{bmatrix} 1 + 2i & 3 - i \\\\ 4 & 5 + i \\end{bmatrix} $$.\n",
    "\n",
    "### Exercise 13: Checking the Dimensions of a Matrix\n",
    "Determine the dimensions of the complex matrix \n",
    "$$ m = \\begin{bmatrix} 1 - i & 2 \\\\ 3 + 2i & 4 - i \\end{bmatrix} $$.\n",
    "\n",
    "## Multiplication of Matrices and Vectors\n",
    "\n",
    "### Exercise 14: Multiplying a Complex Square Matrix by a Complex Column Vector\n",
    "Multiply the complex square matrix \n",
    "$$ m = \\begin{bmatrix} 1 + i & 2 - i \\\\ 3 & 4 + i \\end{bmatrix} $$ \n",
    "by the complex column vector \n",
    "$$ v = \\begin{bmatrix} 2 - i \\\\ 1 + 3i \\end{bmatrix} $$.\n",
    "\n",
    "## Instructions\n",
    "For each exercise, ensure to display both the input (vectors/matrices) and the result of the operation.Use NumPy for these exercises to practice handling complex numbers and matrix operations in Python.\n"
   ]
  },
  {
   "cell_type": "markdown",
   "id": "2c66bceb-e257-4086-806e-b3c0508d6846",
   "metadata": {},
   "source": [
    "\n",
    "# Answers MIGUEL ANGEL MOTTA URREA\n",
    "\n",
    "\n",
    "### Exercise 1: Sum of Two Complex Vectors\n",
    "Given two complex vectors \n",
    "$$ v1 = \\begin{bmatrix} 1 + 2i \\\\ 3 - i \\end{bmatrix} $$ \n",
    "and \n",
    "$$ v2 = \\begin{bmatrix} 2 - i \\\\ 4 + 2i \\end{bmatrix} $$\n",
    "**The answer is:**\n",
    "$$ v3 = \\begin{bmatrix} 3 - i \\\\ 7 + i \\end{bmatrix} $$\n",
    "\n",
    "**Code:**"
   ]
  },
  {
   "cell_type": "code",
   "execution_count": 24,
   "id": "6a138695-e5e4-44c2-ad33-a63728bc641d",
   "metadata": {},
   "outputs": [
    {
     "name": "stdout",
     "output_type": "stream",
     "text": [
      "The answer is:\n",
      "[3.+1.j]\n",
      "[7.+1.j]\n"
     ]
    }
   ],
   "source": [
    "import numpy as np\n",
    "\n",
    "# Define two complex column vectors\n",
    "v1 = np.array([[1+2j], [3-1j]])\n",
    "v2 = np.array([[2-1j], [4+2j]])\n",
    "\n",
    "# Sum\n",
    "patas = v1 + v2\n",
    "print(\"The answer is:\\n\" + str(patas[0]) + \"\\n\" + str(patas[1]))"
   ]
  },
  {
   "cell_type": "markdown",
   "id": "7815a816-b83b-42c0-97a8-1dd515a3fe57",
   "metadata": {},
   "source": [
    "### Exercise 2: Negation of a Complex Vector\n",
    "Given a complex vector \n",
    "$$ v = \\begin{bmatrix} 2 + 3i \\\\ 1 - 2i \\end{bmatrix} $$, \n",
    "**The Negation:**\n",
    "$$ u= \\begin{bmatrix} -2 - 3i \\\\ -1 + 2i \\end{bmatrix} $$\n"
   ]
  },
  {
   "cell_type": "code",
   "execution_count": 33,
   "id": "c62c4f43-4d70-416b-a7ce-e3806ad17f3f",
   "metadata": {},
   "outputs": [
    {
     "name": "stdout",
     "output_type": "stream",
     "text": [
      "The answer is:\n",
      "[-2.-3.j]\n",
      "[-1.+2.j]\n"
     ]
    }
   ],
   "source": [
    "v1 = np.array([[2+3j],[1-2j]])\n",
    "answer_2 = -v1\n",
    "print(\"The answer is:\\n\" + str(answer_2[0]) +\"\\n\"+str(answer_2[1]) )"
   ]
  },
  {
   "cell_type": "markdown",
   "id": "ef21ce34-11f0-45f9-9f62-b18de34b8e96",
   "metadata": {},
   "source": [
    "### Exercise 3: Multiplication of a Complex Vector by a Scalar\n",
    "Multiply the complex vector \n",
    "$$ v = \\begin{bmatrix} 1 - i \\\\ 2 + 2i \\end{bmatrix} $$ \n",
    "by the complex scalar $$ 3 + i $$\n",
    "**The answer is:** \n",
    "$$ u = \\begin{bmatrix} 5 - i \\\\ 2 + 10i \\end{bmatrix} $$ "
   ]
  },
  {
   "cell_type": "code",
   "execution_count": 35,
   "id": "5ac4b2e4-a8b9-4ef3-9237-00cb5abc770e",
   "metadata": {},
   "outputs": [
    {
     "name": "stdout",
     "output_type": "stream",
     "text": [
      "The answer is:\n",
      "[5.-1.j]\n",
      "[2.+10.j]\n"
     ]
    }
   ],
   "source": [
    "# Multiplication by a scalar\n",
    "#scalar = 0.5 + 0.5j\n",
    "#mult_m1 = m1 * scalar\n",
    "v = np.array([[1-1j],[2+2j]])\n",
    "scalar_3 = 3 + 2j\n",
    "answer_3 = v * scalar_3\n",
    "print(\"The answer is:\\n\" + str(answer_3[0]) +\"\\n\"+str(answer_3[1]) )"
   ]
  },
  {
   "cell_type": "markdown",
   "id": "baad5de2-b3ff-40f6-b7da-6a6ca9790da4",
   "metadata": {},
   "source": [
    "### Exercise 4: Transpose of a Complex Vector\n",
    "Find the transpose of the complex vector \n",
    "$$ v = \\begin{bmatrix} 2 - i \\\\ 3 + 4i \\end{bmatrix} $$\n",
    "**My answer:**\n",
    "$$ v^T = \\begin{bmatrix} 2 - i , 3 + 4i \\end{bmatrix} $$"
   ]
  },
  {
   "cell_type": "code",
   "execution_count": 48,
   "id": "38dacd2a-c541-442a-8f78-78e4e00a982f",
   "metadata": {},
   "outputs": [
    {
     "name": "stdout",
     "output_type": "stream",
     "text": [
      "The answer is:\n",
      "[[2.-1.j 3.+4.j]]\n"
     ]
    }
   ],
   "source": [
    "# Transpose\n",
    "#transpose_v1 = v1.T\n",
    "u_4 = np.array([[2-1j],[3+4j]])\n",
    "answer_4 = u_4.T\n",
    "print(\"The answer is:\\n\" +str(answer_4))"
   ]
  },
  {
   "cell_type": "markdown",
   "id": "d9455b98-d9cd-4664-939a-15938a47ae91",
   "metadata": {},
   "source": [
    "### Exercise 5: Conjugate of a Complex Vector\n",
    "Compute the conjugate of the complex vector \n",
    "$$ v = \\begin{bmatrix} 1 + i \\\\ 2 - 3i \\end{bmatrix} $$\n",
    "**Conjugado**\n",
    "$$ v = \\begin{bmatrix} 1 + -i \\\\ 2 + 3i \\end{bmatrix} $$\n"
   ]
  },
  {
   "cell_type": "code",
   "execution_count": 53,
   "id": "dcc0d43a-307b-48f6-8ad1-cd45079997cb",
   "metadata": {},
   "outputs": [
    {
     "name": "stdout",
     "output_type": "stream",
     "text": [
      "The answer is:\n",
      "[1.-1.j]\n",
      "[2.+3.j]\n"
     ]
    }
   ],
   "source": [
    "\n",
    "\"\"\"\n",
    "# Transpose\n",
    "transpose_v1 = v1.T\n",
    "\n",
    "# Adjunct (Conjugate transpose)\n",
    "adjunct_v1 = v1.T.conj()\n",
    "\n",
    "# Conjugate\n",
    "conjugate_v1 = np.conjugate(v1)\n",
    "\"\"\"\n",
    "u5 = np.array([[1 + 1j],[2-3j]])\n",
    "r5 = u5.conj()\n",
    "print(\"The answer is:\\n\" + str(r5[0]) +\"\\n\"+str(r5[1]) )"
   ]
  },
  {
   "cell_type": "markdown",
   "id": "7b2ae0be-cea9-4435-be61-66a6d13799be",
   "metadata": {},
   "source": [
    "### Exercise 6: Adjunct (Conjugate Transpose) of a Complex Vector\n",
    "Find the adjunct (or conjugate transpose) of the complex vector \n",
    "$$ v = \\begin{bmatrix} 1 - 2i \\\\ 3 + i \\end{bmatrix} $$\n",
    "**My answer:**\n",
    "$$ v^T_ == \\begin{bmatrix} 1 + 2i , 3 - i \\end{bmatrix} $$"
   ]
  },
  {
   "cell_type": "code",
   "execution_count": 55,
   "id": "1556617c-4bb6-4f3c-a7a7-2a9576be82f4",
   "metadata": {},
   "outputs": [
    {
     "name": "stdout",
     "output_type": "stream",
     "text": [
      "The answer is:\n",
      "[[1.+2.j 3.-1.j]]\n"
     ]
    }
   ],
   "source": [
    "u6 = np.array([[1 + -2j],[3+1j]])\n",
    "r6 = u6.T.conj()\n",
    "print(\"The answer is:\\n\" +str(r6))"
   ]
  },
  {
   "cell_type": "markdown",
   "id": "98124506-a6df-4f3e-bef3-96311aaa6ae4",
   "metadata": {},
   "source": [
    "### Exercise 7: Sum of Two Complex Matrices\n",
    "Given two complex matrices \n",
    "$$ m1 = \\begin{bmatrix} 1 + i & 2 - i \\\\ 3 + 2i & 4 \\end{bmatrix} $$ \n",
    "and \n",
    "$$ m2 = \\begin{bmatrix} 2 - 3i & 1 \\\\ i & 2 + 2i \\end{bmatrix} $$, \n",
    "**My answer:**\n",
    "$$ m3 = \\begin{bmatrix} 3 - 2i & 3-1i \\\\ 3+3i & 6 + 2i \\end{bmatrix} $$"
   ]
  },
  {
   "cell_type": "code",
   "execution_count": 66,
   "id": "d36c01b2-5a5b-47c2-8259-b33e723e2c77",
   "metadata": {},
   "outputs": [
    {
     "name": "stdout",
     "output_type": "stream",
     "text": [
      "The answer is:\n",
      "\n",
      "[3.-2.j 3.-1.j]\n",
      "[3.+3.j 6.+2.j]\n"
     ]
    }
   ],
   "source": [
    "m1, m2 = np.array([[1+1j, 2-1j],\n",
    "                   [3+2j,4]]),np.array([[2-3j, 1],[1j,2+2j]])\n",
    "r7 = m1 + m2\n",
    "print(\"The answer is:\\n\\n\" + str(r7[0]) +\"\\n\"+str(r7[1]) )"
   ]
  },
  {
   "cell_type": "markdown",
   "id": "e4e7b699-26cb-44e5-9aec-bdcb5313b23b",
   "metadata": {},
   "source": [
    "### Exercise 8: Negation of a Complex Matrix\n",
    "Find the negation of the complex matrix \n",
    "$$ m = \\begin{bmatrix} 2 + i & 3 \\\\ 1 - i & 2 + 2i \\end{bmatrix} $$\n",
    "**My answer is:**\n",
    "$$ r = \\begin{bmatrix} -2 - i & -3 \\\\ -1 + i & -2 - 2i \\end{bmatrix} $$\n"
   ]
  },
  {
   "cell_type": "code",
   "execution_count": 64,
   "id": "adb205d9-3ad5-4bb9-803e-e97f18ab382e",
   "metadata": {},
   "outputs": [
    {
     "name": "stdout",
     "output_type": "stream",
     "text": [
      "The answer is:\n",
      "\n",
      "[-2.-1.j -3.-0.j]\n",
      "[-1.+1.j -2.-2.j]\n"
     ]
    }
   ],
   "source": [
    "m1 = np.array([[2+1j, 3],[1-1j,2+2j]])\n",
    "r8 = -m1\n",
    "print(\"The answer is:\\n\\n\" + str(r8[0]) +\"\\n\"+str(r8[1]) )"
   ]
  },
  {
   "cell_type": "markdown",
   "id": "980eb293-0b83-4526-827e-3cf3278fcf49",
   "metadata": {},
   "source": [
    "### Exercise 9: Multiplication of a Complex Matrix by a Scalar\n",
    "Multiply the complex matrix \n",
    "$$ m = \\begin{bmatrix} 1 - i & 2 \\\\ 3 + i & 4 - 2i \\end{bmatrix} $$ \n",
    "by the complex scalar $$ 2 + 3i $$\n",
    "**My answer is**\n",
    "$$ r = \\begin{bmatrix} 5 + 1i & 4 + 6i \\\\ 3 + 11i & 14 + 8i \\end{bmatrix} $$ \n"
   ]
  },
  {
   "cell_type": "code",
   "execution_count": 69,
   "id": "79cd3d14-d386-49f4-9077-eebf123cfc3c",
   "metadata": {},
   "outputs": [
    {
     "name": "stdout",
     "output_type": "stream",
     "text": [
      "The answer is:\n",
      "\n",
      "[5.+1.j 4.+6.j]\n",
      "\n",
      "[ 3.+11.j 14. +8.j]\n"
     ]
    }
   ],
   "source": [
    "m = np.array([[1-1j,2 ],[3+1j, 4-2j]])\n",
    "s9 = 2 + 3j\n",
    "r9 = m * s9\n",
    "print(\"The answer is:\\n\\n\" + str(r9[0]) +\"\\n\\n\"+str(r9[1]) )"
   ]
  },
  {
   "cell_type": "markdown",
   "id": "887af1ae-957c-4588-8663-8d1f9a10a979",
   "metadata": {},
   "source": [
    "### Exercise 10: Conjugate of a Complex Matrix\n",
    "Compute the conjugate of the complex matrix \n",
    "$$ m = \\begin{bmatrix} 1 + i & 2 \\\\ 3 - i & 4 + 2i \\end{bmatrix} $$\n",
    "**My answer is:**\n",
    "$$ r = \\begin{bmatrix} 1 - i & 2 \\\\ 3 + i & 4 - 2i \\end{bmatrix} $$\n"
   ]
  },
  {
   "cell_type": "code",
   "execution_count": 71,
   "id": "fc3ebf4f-a259-429a-87c9-251edf62cccc",
   "metadata": {},
   "outputs": [
    {
     "name": "stdout",
     "output_type": "stream",
     "text": [
      "The answer is:\n",
      "\n",
      "[1.-1.j 2.-0.j]\n",
      "\n",
      "[3.+1.j 4.-2.j]\n"
     ]
    }
   ],
   "source": [
    "m = np.array([[1+1j,2 ],[3-1j, 4+2j]])\n",
    "r10 = m.conj()\n",
    "print(\"The answer is:\\n\\n\" + str(r10[0]) +\"\\n\\n\"+str(r10[1]) )"
   ]
  },
  {
   "cell_type": "markdown",
   "id": "71580810-2cc9-4dfe-b27f-87ab54fc5933",
   "metadata": {},
   "source": [
    "### Exercise 11: Transpose of a Complex Matrix\n",
    "Find the transpose of the complex matrix \n",
    "$$ m = \\begin{bmatrix} 1 - i & 2 + 2i \\\\ 3 & 4 - i \\end{bmatrix} $$\n",
    "**My answer:**\n",
    "$$ m^T = \\begin{bmatrix} 1 - i & 3 \\\\ 2+2i & 4 - i \\end{bmatrix} $$"
   ]
  },
  {
   "cell_type": "code",
   "execution_count": 73,
   "id": "eab16db7-84ba-47a0-8d5b-69cf1ded1bbe",
   "metadata": {},
   "outputs": [
    {
     "name": "stdout",
     "output_type": "stream",
     "text": [
      "The answer is:\n",
      "\n",
      "[1.-1.j 3.+0.j]\n",
      "\n",
      "[2.+2.j 4.-1.j]\n"
     ]
    }
   ],
   "source": [
    "m = np.array([[1-1j,2+2j ],[3, 4-1j]])\n",
    "r11 = m.T\n",
    "print(\"The answer is:\\n\\n\" + str(r11[0]) +\"\\n\\n\"+str(r11[1]) )"
   ]
  },
  {
   "cell_type": "markdown",
   "id": "9ea6bc52-2b7e-4704-bf02-b785216cdbb1",
   "metadata": {},
   "source": [
    "### Exercise 12: Adjunct (Conjugate Transpose) of a Complex Matrix\n",
    "Calculate the adjunct (or conjugate transpose) of the complex matrix \n",
    "$$ m = \\begin{bmatrix} 1 + 2i & 3 - i \\\\ 4 & 5 + i \\end{bmatrix} $$\n",
    "**My answer is:**\n",
    "$$ Adj(m) = \\begin{bmatrix} 1 - 2i & 4 \\\\ 3 + 1i & 5 - i \\end{bmatrix} $$\n"
   ]
  },
  {
   "cell_type": "code",
   "execution_count": 76,
   "id": "c4b1c4fb-f741-4d10-bf19-8f60ede64e86",
   "metadata": {},
   "outputs": [
    {
     "name": "stdout",
     "output_type": "stream",
     "text": [
      "The answer is:\n",
      "\n",
      "[1.-2.j 4.-0.j]\n",
      "\n",
      "[3.+1.j 5.-1.j]\n"
     ]
    }
   ],
   "source": [
    "m = np.array([[ 1 + 2j, 3 - 1j ],\n",
    "              [4, 5 +1j   ]])\n",
    "r12 = m.T.conj()\n",
    "print(\"The answer is:\\n\\n\" + str(r12[0]) +\"\\n\\n\"+str(r12[1]) )"
   ]
  },
  {
   "cell_type": "markdown",
   "id": "e5ae825f-45bd-4af7-9dab-71edbcecb640",
   "metadata": {},
   "source": [
    "### Exercise 13: Checking the Dimensions of a Matrix\n",
    "Determine the dimensions of the complex matrix \n",
    "$$ m = \\begin{bmatrix} 1 - i & 2 \\\\ 3 + 2i & 4 - i \\end{bmatrix} $$\n",
    "**My answer:**\n",
    "$$ Shape(m) = 2 X 2$$"
   ]
  },
  {
   "cell_type": "code",
   "execution_count": 78,
   "id": "64e3191e-f3eb-42e0-bf4b-6eae1ce9965e",
   "metadata": {},
   "outputs": [
    {
     "name": "stdout",
     "output_type": "stream",
     "text": [
      "The answer is:\n",
      "(2, 2)\n"
     ]
    }
   ],
   "source": [
    "r13 = np.array([[ 1 - 1j, 2 ],\n",
    "              [3 + 2j, 4 - 1j ]])\n",
    "print(\"The answer is:\\n\" + str(r13.shape))"
   ]
  },
  {
   "cell_type": "markdown",
   "id": "752db4c2-0676-4e31-a770-d99c74c311ab",
   "metadata": {},
   "source": [
    "### Exercise 14: Multiplying a Complex Square Matrix by a Complex Column Vector\n",
    "Multiply the complex square matrix \n",
    "$$ m = \\begin{bmatrix} 1 + i & 2 - i \\\\ 3 & 4 + i \\end{bmatrix} $$ \n",
    "by the complex column vector \n",
    "$$ v = \\begin{bmatrix} 2 - i \\\\ 1 + 3i \\end{bmatrix} $$\n",
    "**My answer is:**\n",
    "$$ dot(m, v) = \\begin{bmatrix} 8 + 6i \\\\ 7 + 10i \\end{bmatrix} $$ \n"
   ]
  },
  {
   "cell_type": "code",
   "execution_count": 84,
   "id": "12ce7202-a364-48ee-8efe-40e809bdaa9f",
   "metadata": {},
   "outputs": [
    {
     "name": "stdout",
     "output_type": "stream",
     "text": [
      "The answer is:\n",
      "\n",
      "[8.+6.j]\n",
      "\n",
      "[7.+10.j]\n"
     ]
    }
   ],
   "source": [
    "# Multiplying a 3x3 matrix by a 3x1 vector\n",
    "#result = np.dot(m1, v1)\n",
    "#result\n",
    "\n",
    "m = np.array([[ 1 + 1j, 2 - 1j ],\n",
    "              [3 , 4 + 1j ]])\n",
    "v14 = np.array([[2 - 1j],[1 + 3j]])\n",
    "\n",
    "r14 = np.dot(m, v14)\n",
    "print(\"The answer is:\\n\\n\" + str(r14[0]) +\"\\n\\n\"+str(r14[1]) )"
   ]
  },
  {
   "cell_type": "code",
   "execution_count": null,
   "id": "de305d24-d0ba-462f-9f6c-47db14d65e0e",
   "metadata": {},
   "outputs": [],
   "source": []
  }
 ],
 "metadata": {
  "kernelspec": {
   "display_name": "Python 3 (ipykernel)",
   "language": "python",
   "name": "python3"
  },
  "language_info": {
   "codemirror_mode": {
    "name": "ipython",
    "version": 3
   },
   "file_extension": ".py",
   "mimetype": "text/x-python",
   "name": "python",
   "nbconvert_exporter": "python",
   "pygments_lexer": "ipython3",
   "version": "3.11.5"
  }
 },
 "nbformat": 4,
 "nbformat_minor": 5
}
