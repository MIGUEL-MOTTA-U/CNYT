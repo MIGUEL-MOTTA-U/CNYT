{
 "cells": [
  {
   "cell_type": "markdown",
   "id": "c7d4de9a-e7dc-4cf3-bd8d-7da869ceb9ac",
   "metadata": {},
   "source": [
    "# Respuestas de Laboratorio 3, Miguel Motta"
   ]
  },
  {
   "cell_type": "markdown",
   "id": "b380710d-0fa8-4df3-8851-389a4038b7fc",
   "metadata": {},
   "source": [
    "# Product for Column Vectors\n",
    "## Exercise 1: Complex Internal Product for Column Vectors\n",
    "\n",
    "Given two complex column vectors:\n",
    "\n",
    "$$ \\mathbf{a} = \\begin{bmatrix} 1 + 2i \\\\ 3 - 4i \\end{bmatrix}, \\quad \\mathbf{b} = \\begin{bmatrix} 2 - i \\\\ -1 + 3i \\end{bmatrix} $$\n",
    "### My Answer>\n",
    "$$ \\mathbf{c} = \\begin{bmatrix} -15 + 0i \\end{bmatrix}$$"
   ]
  },
  {
   "cell_type": "code",
   "execution_count": 16,
   "id": "3090359a-3254-422d-baad-8a18940325fa",
   "metadata": {},
   "outputs": [
    {
     "name": "stdout",
     "output_type": "stream",
     "text": [
      "My answer is:\n"
     ]
    },
    {
     "data": {
      "text/plain": [
       "(-15+0j)"
      ]
     },
     "execution_count": 16,
     "metadata": {},
     "output_type": "execute_result"
    }
   ],
   "source": [
    "# Vectors 1\n",
    "import numpy as np\n",
    "vector_a = np.array([1+2j, 3-4j])\n",
    "vector_b = np.array([2-1j, -1+3j])\n",
    "result_01 = np.vdot(vector_a, vector_b)\n",
    "print(\"My answer is:\")\n",
    "result_01"
   ]
  },
  {
   "cell_type": "markdown",
   "id": "67ef1347-619d-4cf3-8c0f-835f960e87c2",
   "metadata": {},
   "source": [
    "## Exercise 2: Complex Internal Product for Square Complex Matrices\n",
    "\n",
    "Given two square complex matrices:\n",
    "\n",
    "$$ A = \\begin{bmatrix} 1+i & 2-2i \\\\ 3+3i & 4-i \\end{bmatrix}, \\quad B = \\begin{bmatrix} 1-2i & 3+i \\\\ 4-4i & 2+2i \\end{bmatrix} $$\n",
    "\n",
    "### My Answer>\n",
    "$$ \\mathbf{c} = \\begin{bmatrix} 9 -9i \\end{bmatrix}$$\n"
   ]
  },
  {
   "cell_type": "code",
   "execution_count": 18,
   "id": "df58ccde-f990-4bc7-84c1-93f6583ea211",
   "metadata": {},
   "outputs": [
    {
     "name": "stdout",
     "output_type": "stream",
     "text": [
      "My Answer\n"
     ]
    },
    {
     "data": {
      "text/plain": [
       "(9-9j)"
      ]
     },
     "execution_count": 18,
     "metadata": {},
     "output_type": "execute_result"
    }
   ],
   "source": [
    "# Vectors 2\n",
    "matrix_A = np.array([[1+1j, 2-2j], \n",
    "                     [3+3j, 4-1j]])\n",
    "matrix_B = np.array([[1-2j, 3+1j], [4-4j, 2+2j]])\n",
    "result_02 = np.trace(np.dot(np.conjugate(matrix_A).T, matrix_B))\n",
    "print(\"My Answer\")\n",
    "result_02\n"
   ]
  },
  {
   "cell_type": "markdown",
   "id": "818c3bec-e154-43df-a8dc-24b48b979108",
   "metadata": {},
   "source": [
    "## Exercise 1: Compute Eigenvalues and Eigenvectors of a Real Matrix\n",
    "\n",
    "Compute the eigenvalues and eigenvectors of the following real matrix:\n",
    "\n",
    "$$\n",
    "A = \\begin{pmatrix}\n",
    "4 & 1 \\\\\n",
    "2 & 3\n",
    "\\end{pmatrix}\n",
    "$$\n",
    "### My Answer:\n",
    "### Eigenvalues:\n",
    "$$ \\mathbf{c} = \\begin{bmatrix} 5 & 2 \\end{bmatrix}$$\n",
    "\n",
    "### Eigenvectors:\n",
    "$$ \\mathbf{B} = \\begin{bmatrix} 0.70710678 & -0.4472136 \\\\ 0.70710678 & 0.89442719 \\end{bmatrix}$$\n"
   ]
  },
  {
   "cell_type": "code",
   "execution_count": 20,
   "id": "d48a08c3-65c5-4132-a938-6d4c242551fe",
   "metadata": {},
   "outputs": [
    {
     "name": "stdout",
     "output_type": "stream",
     "text": [
      "My answer\n",
      "Eigenvalues:\n",
      "-->\n",
      " [5. 2.]\n",
      "Eigenvectors:\n",
      "-->\n",
      " [[ 0.70710678 -0.4472136 ]\n",
      " [ 0.70710678  0.89442719]]\n"
     ]
    }
   ],
   "source": [
    "#Point 1\n",
    "A = np.array([[4, 1], [2, 3]])\n",
    "eigenvalues, eigenvectors = np.linalg.eig(A)\n",
    "print(\"My answer\")\n",
    "print(\"Eigenvalues:\\n-->\\n\", eigenvalues)\n",
    "print(\"Eigenvectors:\\n-->\\n\", eigenvectors)"
   ]
  },
  {
   "cell_type": "markdown",
   "id": "d2e1e165-ced0-4120-8a5a-74fdaf8b793c",
   "metadata": {},
   "source": [
    "## Exercise 2: Eigenvalues and Eigenvectors of a Complex Matrix\n",
    "\n",
    "Compute the eigenvalues and eigenvectors of the following complex matrix:\n",
    "\n",
    "$$\n",
    "B = \\begin{pmatrix}\n",
    "1 + 2i & 2 + 3i \\\\\n",
    "4 + 5i & 6 + 7i\n",
    "\\end{pmatrix}\n",
    "$$\n",
    "\n",
    "where \\(i\\) is the imaginary unit.\n",
    "\n",
    "### My Answer:\n",
    "### Eigenvalues:\n",
    "$$ \\mathbf{c} = \\begin{bmatrix} -0.25519526 - 0.09363597i & 7.25519526 + 9.09363597i \\end{bmatrix}$$\n",
    "\n",
    "### Eigenvectors:\n",
    "$$ \\mathbf{B} = \\begin{bmatrix} 0.8280679 + 0i & 7.25519526 + 9.09363597i \\\\ -0.559984 - 0.02686037i & 0.93440103+0i \\end{bmatrix}$$"
   ]
  },
  {
   "cell_type": "code",
   "execution_count": 34,
   "id": "d40d52ae-07e5-48d1-8a2e-dc511770dbdd",
   "metadata": {},
   "outputs": [
    {
     "name": "stdout",
     "output_type": "stream",
     "text": [
      "My answer\n",
      "Eigenvalues:\n",
      "-->\n",
      " [-0.25519526-0.09363597j  7.25519526+9.09363597j]\n",
      "Eigenvectors:\n",
      "-->\n",
      " [[ 0.8280679 +0.j          0.35299759+0.04782692j]\n",
      " [-0.559984  -0.02686037j  0.93440103+0.j        ]]\n"
     ]
    }
   ],
   "source": [
    "#Punto 2\n",
    "A = np.array([[1+2j, 2+3j], [4+5j, 6+7j]])\n",
    "eigenvalues, eigenvectors = np.linalg.eig(A)\n",
    "print(\"My answer\")\n",
    "print(\"Eigenvalues:\\n-->\\n\", eigenvalues)\n",
    "print(\"Eigenvectors:\\n-->\\n\", eigenvectors)"
   ]
  },
  {
   "cell_type": "markdown",
   "id": "2240ac01-b27a-4717-b7aa-2602d258b436",
   "metadata": {},
   "source": [
    "## Exercise 3: Symmetric Matrix Eigendecomposition\n",
    "\n",
    "Compute the eigenvalues and eigenvectors of the following symmetric matrix:\n",
    "\n",
    "$$\n",
    "C = \\begin{pmatrix}\n",
    "5 & 4 \\\\\n",
    "4 & 5\n",
    "\\end{pmatrix}\n",
    "$$\n",
    "\n",
    "Discuss the properties of the eigenvectors and eigenvalues for symmetric matrices based on your results."
   ]
  },
  {
   "cell_type": "code",
   "execution_count": 24,
   "id": "58da6e06-3674-4f09-b32f-6c3a290ce1eb",
   "metadata": {},
   "outputs": [
    {
     "name": "stdout",
     "output_type": "stream",
     "text": [
      "My answer is:\n",
      "\n",
      "Eigenvalues:\n",
      "-->\n",
      " [9. 1.]\n",
      "Eigenvectors:\n",
      "-->\n",
      " [[ 0.70710678 -0.70710678]\n",
      " [ 0.70710678  0.70710678]]\n"
     ]
    }
   ],
   "source": [
    "#Punto 3\n",
    "A = np.array([[5, 4], [4, 5]])\n",
    "eigenvalues, eigenvectors = np.linalg.eig(A)\n",
    "print(\"My answer is:\\n\")\n",
    "print(\"Eigenvalues:\\n-->\\n\", eigenvalues)\n",
    "print(\"Eigenvectors:\\n-->\\n\", eigenvectors)"
   ]
  },
  {
   "cell_type": "markdown",
   "id": "3fc2abe1-241f-4ab3-81d1-a8dffc1cd1ef",
   "metadata": {},
   "source": [
    "## Exercise 4: Plotting Matrix Transformations\n",
    "\n",
    "Consider the matrix:\n",
    "\n",
    "$$\n",
    "T = \\begin{pmatrix}\n",
    "2 & 1 \\\\\n",
    "1 & 3\n",
    "\\end{pmatrix}\n",
    "$$\n",
    "\n",
    "1. Plot the unit circle.\n",
    "2. Apply the matrix \\(T\\) to transform the unit circle.\n",
    "3. Plot the transformed figure.\n",
    "4. Show graphically that the eigenvectors are only multiplied by an escalar when transformed. (Plot the eigen vectors and the transformed ones) \n",
    "\n",
    "Explain how the matrix \\(T\\) transforms the unit circle based on the resulting plot.\n",
    "\n",
    "**Hint:** Use `numpy` for matrix operations and `matplotlib` for plotting."
   ]
  },
  {
   "cell_type": "code",
   "execution_count": 37,
   "id": "18459305-3fcc-42f6-beba-6b7107a6784e",
   "metadata": {},
   "outputs": [
    {
     "data": {
      "image/png": "[encoded data removed]",
      "text/plain": [
       "<Figure size 600x600 with 1 Axes>"
      ]
     },
     "metadata": {},
     "output_type": "display_data"
    }
   ],
   "source": [
    "# Punto 4\n",
    "import matplotlib.pyplot as plt\n",
    "T = np.array([[2, 1], [1, 3]])\n",
    "theta = np.linspace(0, 2*np.pi, 100)\n",
    "vectors = np.array([np.cos(theta), np.sin(theta)])\n",
    "transformed_vectors = T.dot(vectors)\n",
    "plt.figure(figsize=(6,6))\n",
    "plt.plot(vectors[0], vectors[1], 'b', label='Original Vectors')  # Original vectors\n",
    "plt.plot(transformed_vectors[0], transformed_vectors[1], 'r', label='Transformed Vectors')  # Transformed vectors\n",
    "plt.axis('equal')\n",
    "plt.legend()\n",
    "plt.title('Matrix Transformations')\n",
    "plt.xlabel('X')\n",
    "plt.ylabel('Y')\n",
    "plt.grid(True)\n",
    "plt.show()"
   ]
  },
  {
   "cell_type": "markdown",
   "id": "322bf859-2109-42a9-8340-3117cf9a6e2f",
   "metadata": {},
   "source": [
    "## Exercise 5: Diagonal Matrix Eigendecomposition\n",
    "\n",
    "Compute the eigenvalues and eigenvectors of the following diagonal matrix:\n",
    "\n",
    "$$\n",
    "D = \\begin{pmatrix}\n",
    "7 & 0 \\\\\n",
    "0 & -3\n",
    "\\end{pmatrix}\n",
    "$$\n",
    "\n",
    "### My Answer:\n",
    "### Eigenvalues:\n",
    "$$ \\mathbf{c} = \\begin{bmatrix} 7 & -3 \\end{bmatrix}$$\n",
    "\n",
    "### Eigenvectors:\n",
    "$$ \\mathbf{B} = \\begin{bmatrix} 1 & 0 \\\\ 0 & 1 \\end{bmatrix}$$"
   ]
  },
  {
   "cell_type": "code",
   "execution_count": 33,
   "id": "cedc8fd5-9be8-47ce-87aa-436026817370",
   "metadata": {},
   "outputs": [
    {
     "name": "stdout",
     "output_type": "stream",
     "text": [
      "My answer is:\n",
      "\n",
      "Eigenvalues:\n",
      "-->\n",
      " [ 7. -3.]\n",
      "Eigenvectors:\n",
      "-->\n",
      " [[1. 0.]\n",
      " [0. 1.]]\n"
     ]
    }
   ],
   "source": [
    "# Point 5\n",
    "A = np.array([[7, 0], [0, -3]])\n",
    "eigenvalues, eigenvectors = np.linalg.eig(A)\n",
    "print(\"My answer is:\\n\")\n",
    "print(\"Eigenvalues:\\n-->\\n\", eigenvalues)\n",
    "print(\"Eigenvectors:\\n-->\\n\", eigenvectors)"
   ]
  },
  {
   "cell_type": "code",
   "execution_count": null,
   "id": "fc410005-1e26-41b2-9a39-588c14f5875f",
   "metadata": {},
   "outputs": [],
   "source": []
  }
 ],
 "metadata": {
  "kernelspec": {
   "display_name": "Python 3 (ipykernel)",
   "language": "python",
   "name": "python3"
  },
  "language_info": {
   "codemirror_mode": {
    "name": "ipython",
    "version": 3
   },
   "file_extension": ".py",
   "mimetype": "text/x-python",
   "name": "python",
   "nbconvert_exporter": "python",
   "pygments_lexer": "ipython3",
   "version": "3.11.5"
  }
 },
 "nbformat": 4,
 "nbformat_minor": 5
}
