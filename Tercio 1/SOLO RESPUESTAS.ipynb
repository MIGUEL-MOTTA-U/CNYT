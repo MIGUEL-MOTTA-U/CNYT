{
 "cells": [
  {
   "cell_type": "markdown",
   "id": "2c66bceb-e257-4086-806e-b3c0508d6846",
   "metadata": {},
   "source": [
    "\n",
    "# Answers MIGUEL ANGEL MOTTA URREA\n",
    "\n",
    "\n",
    "### Exercise 1: Sum of Two Complex Vectors\n",
    "Given two complex vectors \n",
    "$$ v1 = \\begin{bmatrix} 1 + 2i \\\\ 3 - i \\end{bmatrix} $$ \n",
    "and \n",
    "$$ v2 = \\begin{bmatrix} 2 - i \\\\ 4 + 2i \\end{bmatrix} $$\n",
    "**The answer is:**\n",
    "$$ v3 = \\begin{bmatrix} 3 - i \\\\ 7 + i \\end{bmatrix} $$\n",
    "\n",
    "**Code:**"
   ]
  },
  {
   "cell_type": "code",
   "execution_count": 1,
   "id": "6a138695-e5e4-44c2-ad33-a63728bc641d",
   "metadata": {},
   "outputs": [
    {
     "name": "stdout",
     "output_type": "stream",
     "text": [
      "The answer is:\n",
      "[3.+1.j]\n",
      "[7.+1.j]\n"
     ]
    }
   ],
   "source": [
    "import numpy as np\n",
    "\n",
    "# Define two complex column vectors\n",
    "v1 = np.array([[1+2j], [3-1j]])\n",
    "v2 = np.array([[2-1j], [4+2j]])\n",
    "\n",
    "# Sum\n",
    "patas = v1 + v2\n",
    "print(\"The answer is:\\n\" + str(patas[0]) + \"\\n\" + str(patas[1]))"
   ]
  },
  {
   "cell_type": "markdown",
   "id": "7815a816-b83b-42c0-97a8-1dd515a3fe57",
   "metadata": {},
   "source": [
    "### Exercise 2: Negation of a Complex Vector\n",
    "Given a complex vector \n",
    "$$ v = \\begin{bmatrix} 2 + 3i \\\\ 1 - 2i \\end{bmatrix} $$, \n",
    "**The Negation:**\n",
    "$$ u= \\begin{bmatrix} -2 - 3i \\\\ -1 + 2i \\end{bmatrix} $$\n"
   ]
  },
  {
   "cell_type": "code",
   "execution_count": 2,
   "id": "c62c4f43-4d70-416b-a7ce-e3806ad17f3f",
   "metadata": {},
   "outputs": [
    {
     "name": "stdout",
     "output_type": "stream",
     "text": [
      "The answer is:\n",
      "[-2.-3.j]\n",
      "[-1.+2.j]\n"
     ]
    }
   ],
   "source": [
    "v1 = np.array([[2+3j],[1-2j]])\n",
    "answer_2 = -v1\n",
    "print(\"The answer is:\\n\" + str(answer_2[0]) +\"\\n\"+str(answer_2[1]) )"
   ]
  },
  {
   "cell_type": "markdown",
   "id": "ef21ce34-11f0-45f9-9f62-b18de34b8e96",
   "metadata": {},
   "source": [
    "### Exercise 3: Multiplication of a Complex Vector by a Scalar\n",
    "Multiply the complex vector \n",
    "$$ v = \\begin{bmatrix} 1 - i \\\\ 2 + 2i \\end{bmatrix} $$ \n",
    "by the complex scalar $$ 3 + i $$\n",
    "**The answer is:** \n",
    "$$ u = \\begin{bmatrix} 5 - i \\\\ 2 + 10i \\end{bmatrix} $$ "
   ]
  },
  {
   "cell_type": "code",
   "execution_count": 3,
   "id": "5ac4b2e4-a8b9-4ef3-9237-00cb5abc770e",
   "metadata": {},
   "outputs": [
    {
     "name": "stdout",
     "output_type": "stream",
     "text": [
      "The answer is:\n",
      "[5.-1.j]\n",
      "[2.+10.j]\n"
     ]
    }
   ],
   "source": [
    "# Multiplication by a scalar\n",
    "#scalar = 0.5 + 0.5j\n",
    "#mult_m1 = m1 * scalar\n",
    "v = np.array([[1-1j],[2+2j]])\n",
    "scalar_3 = 3 + 2j\n",
    "answer_3 = v * scalar_3\n",
    "print(\"The answer is:\\n\" + str(answer_3[0]) +\"\\n\"+str(answer_3[1]) )"
   ]
  },
  {
   "cell_type": "markdown",
   "id": "baad5de2-b3ff-40f6-b7da-6a6ca9790da4",
   "metadata": {},
   "source": [
    "### Exercise 4: Transpose of a Complex Vector\n",
    "Find the transpose of the complex vector \n",
    "$$ v = \\begin{bmatrix} 2 - i \\\\ 3 + 4i \\end{bmatrix} $$\n",
    "**My answer:**\n",
    "$$ v^T = \\begin{bmatrix} 2 - i , 3 + 4i \\end{bmatrix} $$"
   ]
  },
  {
   "cell_type": "code",
   "execution_count": 4,
   "id": "38dacd2a-c541-442a-8f78-78e4e00a982f",
   "metadata": {},
   "outputs": [
    {
     "name": "stdout",
     "output_type": "stream",
     "text": [
      "The answer is:\n",
      "[[2.-1.j 3.+4.j]]\n"
     ]
    }
   ],
   "source": [
    "# Transpose\n",
    "#transpose_v1 = v1.T\n",
    "u_4 = np.array([[2-1j],[3+4j]])\n",
    "answer_4 = u_4.T\n",
    "print(\"The answer is:\\n\" +str(answer_4))"
   ]
  },
  {
   "cell_type": "markdown",
   "id": "d9455b98-d9cd-4664-939a-15938a47ae91",
   "metadata": {},
   "source": [
    "### Exercise 5: Conjugate of a Complex Vector\n",
    "Compute the conjugate of the complex vector \n",
    "$$ v = \\begin{bmatrix} 1 + i \\\\ 2 - 3i \\end{bmatrix} $$\n",
    "**Conjugado**\n",
    "$$ v = \\begin{bmatrix} 1 + -i \\\\ 2 + 3i \\end{bmatrix} $$\n"
   ]
  },
  {
   "cell_type": "code",
   "execution_count": 5,
   "id": "dcc0d43a-307b-48f6-8ad1-cd45079997cb",
   "metadata": {},
   "outputs": [
    {
     "name": "stdout",
     "output_type": "stream",
     "text": [
      "The answer is:\n",
      "[1.-1.j]\n",
      "[2.+3.j]\n"
     ]
    }
   ],
   "source": [
    "\n",
    "\"\"\"\n",
    "# Transpose\n",
    "transpose_v1 = v1.T\n",
    "\n",
    "# Adjunct (Conjugate transpose)\n",
    "adjunct_v1 = v1.T.conj()\n",
    "\n",
    "# Conjugate\n",
    "conjugate_v1 = np.conjugate(v1)\n",
    "\"\"\"\n",
    "u5 = np.array([[1 + 1j],[2-3j]])\n",
    "r5 = u5.conj()\n",
    "print(\"The answer is:\\n\" + str(r5[0]) +\"\\n\"+str(r5[1]) )"
   ]
  },
  {
   "cell_type": "markdown",
   "id": "7b2ae0be-cea9-4435-be61-66a6d13799be",
   "metadata": {},
   "source": [
    "### Exercise 6: Adjunct (Conjugate Transpose) of a Complex Vector\n",
    "Find the adjunct (or conjugate transpose) of the complex vector \n",
    "$$ v = \\begin{bmatrix} 1 - 2i \\\\ 3 + i \\end{bmatrix} $$\n",
    "**My answer:**\n",
    "$$ v^T_ == \\begin{bmatrix} 1 + 2i , 3 - i \\end{bmatrix} $$"
   ]
  },
  {
   "cell_type": "code",
   "execution_count": 6,
   "id": "1556617c-4bb6-4f3c-a7a7-2a9576be82f4",
   "metadata": {},
   "outputs": [
    {
     "name": "stdout",
     "output_type": "stream",
     "text": [
      "The answer is:\n",
      "[[1.+2.j 3.-1.j]]\n"
     ]
    }
   ],
   "source": [
    "u6 = np.array([[1 + -2j],[3+1j]])\n",
    "r6 = u6.T.conj()\n",
    "print(\"The answer is:\\n\" +str(r6))"
   ]
  },
  {
   "cell_type": "markdown",
   "id": "98124506-a6df-4f3e-bef3-96311aaa6ae4",
   "metadata": {},
   "source": [
    "### Exercise 7: Sum of Two Complex Matrices\n",
    "Given two complex matrices \n",
    "$$ m1 = \\begin{bmatrix} 1 + i & 2 - i \\\\ 3 + 2i & 4 \\end{bmatrix} $$ \n",
    "and \n",
    "$$ m2 = \\begin{bmatrix} 2 - 3i & 1 \\\\ i & 2 + 2i \\end{bmatrix} $$, \n",
    "**My answer:**\n",
    "$$ m3 = \\begin{bmatrix} 3 - 2i & 3-1i \\\\ 3+3i & 6 + 2i \\end{bmatrix} $$"
   ]
  },
  {
   "cell_type": "code",
   "execution_count": 7,
   "id": "d36c01b2-5a5b-47c2-8259-b33e723e2c77",
   "metadata": {},
   "outputs": [
    {
     "name": "stdout",
     "output_type": "stream",
     "text": [
      "The answer is:\n",
      "\n",
      "[3.-2.j 3.-1.j]\n",
      "[3.+3.j 6.+2.j]\n"
     ]
    }
   ],
   "source": [
    "m1, m2 = np.array([[1+1j, 2-1j],\n",
    "                   [3+2j,4]]),np.array([[2-3j, 1],[1j,2+2j]])\n",
    "r7 = m1 + m2\n",
    "print(\"The answer is:\\n\\n\" + str(r7[0]) +\"\\n\"+str(r7[1]) )"
   ]
  },
  {
   "cell_type": "markdown",
   "id": "e4e7b699-26cb-44e5-9aec-bdcb5313b23b",
   "metadata": {},
   "source": [
    "### Exercise 8: Negation of a Complex Matrix\n",
    "Find the negation of the complex matrix \n",
    "$$ m = \\begin{bmatrix} 2 + i & 3 \\\\ 1 - i & 2 + 2i \\end{bmatrix} $$\n",
    "**My answer is:**\n",
    "$$ r = \\begin{bmatrix} -2 - i & -3 \\\\ -1 + i & -2 - 2i \\end{bmatrix} $$\n"
   ]
  },
  {
   "cell_type": "code",
   "execution_count": 8,
   "id": "adb205d9-3ad5-4bb9-803e-e97f18ab382e",
   "metadata": {},
   "outputs": [
    {
     "name": "stdout",
     "output_type": "stream",
     "text": [
      "The answer is:\n",
      "\n",
      "[-2.-1.j -3.-0.j]\n",
      "[-1.+1.j -2.-2.j]\n"
     ]
    }
   ],
   "source": [
    "m1 = np.array([[2+1j, 3],[1-1j,2+2j]])\n",
    "r8 = -m1\n",
    "print(\"The answer is:\\n\\n\" + str(r8[0]) +\"\\n\"+str(r8[1]) )"
   ]
  },
  {
   "cell_type": "markdown",
   "id": "980eb293-0b83-4526-827e-3cf3278fcf49",
   "metadata": {},
   "source": [
    "### Exercise 9: Multiplication of a Complex Matrix by a Scalar\n",
    "Multiply the complex matrix \n",
    "$$ m = \\begin{bmatrix} 1 - i & 2 \\\\ 3 + i & 4 - 2i \\end{bmatrix} $$ \n",
    "by the complex scalar $$ 2 + 3i $$\n",
    "**My answer is**\n",
    "$$ r = \\begin{bmatrix} 5 + 1i & 4 + 6i \\\\ 3 + 11i & 14 + 8i \\end{bmatrix} $$ \n"
   ]
  },
  {
   "cell_type": "code",
   "execution_count": 9,
   "id": "79cd3d14-d386-49f4-9077-eebf123cfc3c",
   "metadata": {},
   "outputs": [
    {
     "name": "stdout",
     "output_type": "stream",
     "text": [
      "The answer is:\n",
      "\n",
      "[5.+1.j 4.+6.j]\n",
      "\n",
      "[ 3.+11.j 14. +8.j]\n"
     ]
    }
   ],
   "source": [
    "m = np.array([[1-1j,2 ],[3+1j, 4-2j]])\n",
    "s9 = 2 + 3j\n",
    "r9 = m * s9\n",
    "print(\"The answer is:\\n\\n\" + str(r9[0]) +\"\\n\\n\"+str(r9[1]) )"
   ]
  },
  {
   "cell_type": "markdown",
   "id": "887af1ae-957c-4588-8663-8d1f9a10a979",
   "metadata": {},
   "source": [
    "### Exercise 10: Conjugate of a Complex Matrix\n",
    "Compute the conjugate of the complex matrix \n",
    "$$ m = \\begin{bmatrix} 1 + i & 2 \\\\ 3 - i & 4 + 2i \\end{bmatrix} $$\n",
    "**My answer is:**\n",
    "$$ r = \\begin{bmatrix} 1 - i & 2 \\\\ 3 + i & 4 - 2i \\end{bmatrix} $$\n"
   ]
  },
  {
   "cell_type": "code",
   "execution_count": 10,
   "id": "fc3ebf4f-a259-429a-87c9-251edf62cccc",
   "metadata": {},
   "outputs": [
    {
     "name": "stdout",
     "output_type": "stream",
     "text": [
      "The answer is:\n",
      "\n",
      "[1.-1.j 2.-0.j]\n",
      "\n",
      "[3.+1.j 4.-2.j]\n"
     ]
    }
   ],
   "source": [
    "m = np.array([[1+1j,2 ],[3-1j, 4+2j]])\n",
    "r10 = m.conj()\n",
    "print(\"The answer is:\\n\\n\" + str(r10[0]) +\"\\n\\n\"+str(r10[1]) )"
   ]
  },
  {
   "cell_type": "markdown",
   "id": "71580810-2cc9-4dfe-b27f-87ab54fc5933",
   "metadata": {},
   "source": [
    "### Exercise 11: Transpose of a Complex Matrix\n",
    "Find the transpose of the complex matrix \n",
    "$$ m = \\begin{bmatrix} 1 - i & 2 + 2i \\\\ 3 & 4 - i \\end{bmatrix} $$\n",
    "**My answer:**\n",
    "$$ m^T = \\begin{bmatrix} 1 - i & 3 \\\\ 2+2i & 4 - i \\end{bmatrix} $$"
   ]
  },
  {
   "cell_type": "code",
   "execution_count": 11,
   "id": "eab16db7-84ba-47a0-8d5b-69cf1ded1bbe",
   "metadata": {},
   "outputs": [
    {
     "name": "stdout",
     "output_type": "stream",
     "text": [
      "The answer is:\n",
      "\n",
      "[1.-1.j 3.+0.j]\n",
      "\n",
      "[2.+2.j 4.-1.j]\n"
     ]
    }
   ],
   "source": [
    "m = np.array([[1-1j,2+2j ],[3, 4-1j]])\n",
    "r11 = m.T\n",
    "print(\"The answer is:\\n\\n\" + str(r11[0]) +\"\\n\\n\"+str(r11[1]) )"
   ]
  },
  {
   "cell_type": "markdown",
   "id": "9ea6bc52-2b7e-4704-bf02-b785216cdbb1",
   "metadata": {},
   "source": [
    "### Exercise 12: Adjunct (Conjugate Transpose) of a Complex Matrix\n",
    "Calculate the adjunct (or conjugate transpose) of the complex matrix \n",
    "$$ m = \\begin{bmatrix} 1 + 2i & 3 - i \\\\ 4 & 5 + i \\end{bmatrix} $$\n",
    "**My answer is:**\n",
    "$$ Adj(m) = \\begin{bmatrix} 1 - 2i & 4 \\\\ 3 + 1i & 5 - i \\end{bmatrix} $$\n"
   ]
  },
  {
   "cell_type": "code",
   "execution_count": 12,
   "id": "c4b1c4fb-f741-4d10-bf19-8f60ede64e86",
   "metadata": {},
   "outputs": [
    {
     "name": "stdout",
     "output_type": "stream",
     "text": [
      "The answer is:\n",
      "\n",
      "[1.-2.j 4.-0.j]\n",
      "\n",
      "[3.+1.j 5.-1.j]\n"
     ]
    }
   ],
   "source": [
    "m = np.array([[ 1 + 2j, 3 - 1j ],\n",
    "              [4, 5 +1j   ]])\n",
    "r12 = m.T.conj()\n",
    "print(\"The answer is:\\n\\n\" + str(r12[0]) +\"\\n\\n\"+str(r12[1]) )"
   ]
  },
  {
   "cell_type": "markdown",
   "id": "e5ae825f-45bd-4af7-9dab-71edbcecb640",
   "metadata": {},
   "source": [
    "### Exercise 13: Checking the Dimensions of a Matrix\n",
    "Determine the dimensions of the complex matrix \n",
    "$$ m = \\begin{bmatrix} 1 - i & 2 \\\\ 3 + 2i & 4 - i \\end{bmatrix} $$\n",
    "**My answer:**\n",
    "$$ Shape(m) = 2 X 2$$"
   ]
  },
  {
   "cell_type": "code",
   "execution_count": 13,
   "id": "64e3191e-f3eb-42e0-bf4b-6eae1ce9965e",
   "metadata": {},
   "outputs": [
    {
     "name": "stdout",
     "output_type": "stream",
     "text": [
      "The answer is:\n",
      "(2, 2)\n"
     ]
    }
   ],
   "source": [
    "r13 = np.array([[ 1 - 1j, 2 ],\n",
    "              [3 + 2j, 4 - 1j ]])\n",
    "print(\"The answer is:\\n\" + str(r13.shape))"
   ]
  },
  {
   "cell_type": "markdown",
   "id": "752db4c2-0676-4e31-a770-d99c74c311ab",
   "metadata": {},
   "source": [
    "### Exercise 14: Multiplying a Complex Square Matrix by a Complex Column Vector\n",
    "Multiply the complex square matrix \n",
    "$$ m = \\begin{bmatrix} 1 + i & 2 - i \\\\ 3 & 4 + i \\end{bmatrix} $$ \n",
    "by the complex column vector \n",
    "$$ v = \\begin{bmatrix} 2 - i \\\\ 1 + 3i \\end{bmatrix} $$\n",
    "**My answer is:**\n",
    "$$ dot(m, v) = \\begin{bmatrix} 8 + 6i \\\\ 7 + 10i \\end{bmatrix} $$ \n"
   ]
  },
  {
   "cell_type": "code",
   "execution_count": 14,
   "id": "12ce7202-a364-48ee-8efe-40e809bdaa9f",
   "metadata": {},
   "outputs": [
    {
     "name": "stdout",
     "output_type": "stream",
     "text": [
      "The answer is:\n",
      "\n",
      "[8.+6.j]\n",
      "\n",
      "[7.+10.j]\n"
     ]
    }
   ],
   "source": [
    "# Multiplying a 3x3 matrix by a 3x1 vector\n",
    "#result = np.dot(m1, v1)\n",
    "#result\n",
    "\n",
    "m = np.array([[ 1 + 1j, 2 - 1j ],\n",
    "              [3 , 4 + 1j ]])\n",
    "v14 = np.array([[2 - 1j],[1 + 3j]])\n",
    "\n",
    "r14 = np.dot(m, v14)\n",
    "print(\"The answer is:\\n\\n\" + str(r14[0]) +\"\\n\\n\"+str(r14[1]) )"
   ]
  }
 ],
 "metadata": {
  "kernelspec": {
   "display_name": "Python 3 (ipykernel)",
   "language": "python",
   "name": "python3"
  },
  "language_info": {
   "codemirror_mode": {
    "name": "ipython",
    "version": 3
   },
   "file_extension": ".py",
   "mimetype": "text/x-python",
   "name": "python",
   "nbconvert_exporter": "python",
   "pygments_lexer": "ipython3",
   "version": "3.12.0"
  }
 },
 "nbformat": 4,
 "nbformat_minor": 5
}
