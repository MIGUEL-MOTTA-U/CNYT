{
 "cells": [
  {
   "cell_type": "markdown",
   "id": "c7d4de9a-e7dc-4cf3-bd8d-7da869ceb9ac",
   "metadata": {},
   "source": [
    "# Respuestas Taller 3\n",
    "### Miguel Angel Motta Urrea"
   ]
  },
  {
   "cell_type": "markdown",
   "id": "ffa82608-ea8c-4bc7-b357-a8552a649f0c",
   "metadata": {},
   "source": [
    "# Exercises on Complex Vector and Matrix Operations\n",
    "\n",
    "This set of exercises is designed to test your understanding of various concepts related to complex vector and matrix operations, which are foundational in quantum computing. Each exercise presents a concrete case for you to apply what you've learned about Hermitian matrices, Unitary matrices, and tensor products.\n",
    "\n",
    "NOTE: VERIFY YOUR COMPUTATIONS IN PAPER AND IN THE COMPUTER.\n"
   ]
  },
  {
   "cell_type": "code",
   "execution_count": 1,
   "id": "97d2c1a3-9f67-4132-b718-b7bca6737b47",
   "metadata": {},
   "outputs": [],
   "source": [
    "import numpy as np"
   ]
  },
  {
   "cell_type": "markdown",
   "id": "15d74d2c-b219-4cab-be8b-1b430af4e443",
   "metadata": {},
   "source": [
    "## Exercise 1: Complex Hermitian Matrices\n",
    "\n",
    "Consider the matrix:\n",
    "\n",
    "$$ H = \\begin{bmatrix} 3 & 2+i \\\\ 2-i & 1 \\end{bmatrix} $$\n",
    "\n",
    "- Verify if $ H $ is a Hermitian matrix.\n",
    "- If it is, find its eigenvalues.\n",
    "\n",
    "### My Answer is:\n",
    "$$ Eigenvalues = \\begin{bmatrix}4.44948974-6.70989255e-17i  & -0.44948974+1.15877743e-17i \\end{bmatrix} $$\n"
   ]
  },
  {
   "cell_type": "code",
   "execution_count": 5,
   "id": "c70bdca7-16c9-45aa-9e2e-7c600b52a393",
   "metadata": {},
   "outputs": [
    {
     "name": "stdout",
     "output_type": "stream",
     "text": [
      "True\n",
      "Eigenvalues:\n",
      "-->\n",
      " [ 4.44948974-6.70989255e-17j -0.44948974+1.15877743e-17j]\n"
     ]
    }
   ],
   "source": [
    "# Exercese 1\n",
    "# Define a complex Hermitian matrix\n",
    "hermitian_matrix = np.array([[3+0j, 2+1j], \n",
    "                             [2-1j, 1+0j]])\n",
    "\n",
    "# Check if the matrix is Hermitian\n",
    "is_hermitian = np.allclose(hermitian_matrix, hermitian_matrix.conj().T)\n",
    "print(is_hermitian)\n",
    "if is_hermitian:\n",
    "    eigenvalues, eigenvectors = np.linalg.eig(hermitian_matrix)\n",
    "    print(\"Eigenvalues:\\n-->\\n\", eigenvalues)"
   ]
  },
  {
   "cell_type": "markdown",
   "id": "14703c36-6382-4987-8409-b0c2bc376874",
   "metadata": {},
   "source": [
    "## Exercise 2: Complex Unitary Matrices\n",
    "\n",
    "Consider the matrix:\n",
    "\n",
    "$$ U = \\frac{1}{\\sqrt{2}}\\begin{bmatrix} 1 & i \\\\ i & 1 \\end{bmatrix} $$\n",
    "\n",
    "- Verify if $ U $ is a Unitary matrix.\n",
    "- Compute $ UU^\\dagger $ to confirm its Unitarity, where $ U^\\dagger $ denotes the conjugate transpose of $ U $.\n",
    "- \n",
    "### My Answer is:\n",
    "It's unitary\n",
    "$$ UU^\\dagger = 1 $$"
   ]
  },
  {
   "cell_type": "code",
   "execution_count": 46,
   "id": "cec15b50-daca-41c0-9578-b7a9ada29265",
   "metadata": {},
   "outputs": [
    {
     "name": "stdout",
     "output_type": "stream",
     "text": [
      "Is unitary!: \n",
      "True\n",
      "(0.9999999999999998+0j)\n"
     ]
    }
   ],
   "source": [
    "\n",
    "# Punto 2\n",
    "unitary_matrix = np.array([[1/np.sqrt(2), (1/np.sqrt(2))*1j], \n",
    "               [(1/np.sqrt(2))*1j, 1/np.sqrt(2)]])\n",
    "\n",
    "# Check if the matrix is Unitary\n",
    "# np.eye(2) returns the identity of size 2x2\n",
    "is_unitary = np.allclose(np.dot(unitary_matrix, unitary_matrix.conj().T), np.eye(2))\n",
    "complex_internal_product_matrix = np.trace((np.dot(unitary_matrix,unitary_matrix.conj().T)))/2\n",
    "\n",
    "print(\"Is unitary!: \\n\" + str(is_unitary))\n",
    "print(complex_internal_product_matrix)"
   ]
  },
  {
   "cell_type": "markdown",
   "id": "c8df2ec2-c04a-4731-ac69-4031ecd5ff11",
   "metadata": {},
   "source": [
    "## Exercise 3: Tensor Product for Complex Vectors\n",
    "\n",
    "Given the complex vectors:\n",
    "\n",
    "$$ \\mathbf{v} = \\begin{bmatrix} 1+i \\\\ 2-i \\end{bmatrix}, \\quad \\mathbf{w} = \\begin{bmatrix} 1-2i \\\\ 3 \\end{bmatrix} $$\n",
    "\n",
    "Calculate the tensor product $ \\mathbf{v} \\otimes \\mathbf{w} $.\n",
    "### My Answer is:"
   ]
  },
  {
   "cell_type": "code",
   "execution_count": 28,
   "id": "01efd0f0-0e81-42d1-b2f4-942aa75dc961",
   "metadata": {},
   "outputs": [
    {
     "name": "stdout",
     "output_type": "stream",
     "text": [
      "[3.+1.j 3.+3.j 0.-5.j 3.-6.j]\n"
     ]
    }
   ],
   "source": [
    "# PUnto 3\n",
    "# Define two complex vectors for the tensor product\n",
    "v1 = np.array([1+1j, 1-2j])\n",
    "v2 = np.array([2-1j, 3+0j])\n",
    "\n",
    "# Calculate the tensor product\n",
    "tensor_product_v = np.kron(v1, v2)\n",
    "\n",
    "print(tensor_product_v)"
   ]
  },
  {
   "cell_type": "markdown",
   "id": "75fc7f58-5fc8-42a4-9f9b-9f2c44ef14e7",
   "metadata": {},
   "source": [
    "## Exercise 4: Tensor Product for Complex Matrices\n",
    "\n",
    "Given the matrices:\n",
    "\n",
    "$$ M_1 = \\begin{bmatrix} 0 & 1 \\\\ 1 & 0 \\end{bmatrix}, \\quad M_2 = \\begin{bmatrix} i & 0 \\\\ 0 & -i \\end{bmatrix} $$\n",
    "\n",
    "Calculate the tensor product $ M_1 \\otimes M_2 $.\n",
    "### My Answer is:\n",
    "$$ M_1 = \\begin{bmatrix} 0 & 0 & 1i & 0 \\\\ 0 & 0  & 0 & -1i \\\\ 1i & 0  & 0 & 0 \\\\  0 & -1i  & 0 & 0 \\end{bmatrix}, \\quad $$\n"
   ]
  },
  {
   "cell_type": "code",
   "execution_count": 44,
   "id": "6f5fc57d-ac0f-467a-95fa-30f3661a99a2",
   "metadata": {},
   "outputs": [
    {
     "name": "stdout",
     "output_type": "stream",
     "text": [
      "My Tensor Product:\n",
      "[[0.+0.j 0.+0.j 0.+1.j 0.+0.j]\n",
      " [0.+0.j 0.-0.j 0.+0.j 0.-1.j]\n",
      " [0.+1.j 0.+0.j 0.+0.j 0.+0.j]\n",
      " [0.+0.j 0.-1.j 0.+0.j 0.-0.j]]\n"
     ]
    }
   ],
   "source": [
    "# Punto 4\n",
    "M1 = np.array([[0,1], \n",
    "               [1,0]])\n",
    "M2 = np.array([[1j,0], [0,-1j]])\n",
    "\n",
    "# Calculate the tensor product\n",
    "tensor_product_m = np.kron(M1, M2)\n",
    "print(\"My Tensor Product:\")\n",
    "print(tensor_product_m)"
   ]
  },
  {
   "cell_type": "markdown",
   "id": "790b3ca9-33b3-480a-bc18-d506d62473e1",
   "metadata": {},
   "source": [
    "## Exercise 5: Modelling quantum computations with vectors and matrices\n",
    "\n",
    "Using matrices and vectors, implement a model of the Mach/Zehnder interferometer.\n",
    "\n",
    "![Mach-Zehnder interferometer](images/Mach-Zehnder-Interferometer.png)\n",
    "### My Answer is:"
   ]
  },
  {
   "cell_type": "code",
   "execution_count": null,
   "id": "5feba641-9741-4093-8765-f670d510cee0",
   "metadata": {},
   "outputs": [],
   "source": [
    "# Punto 5"
   ]
  },
  {
   "cell_type": "markdown",
   "id": "da8d7d54-f5b2-42c6-b00e-217dfd940c39",
   "metadata": {},
   "source": [
    "## Exercise 6: Composing quantum systems \n",
    "\n",
    "Using matrices and vectors, implement a model of the following circuit.\n",
    "\n",
    "![Mach-Zehnder interferometer](images/Deutsch-Algorithm.png)\n",
    "\n",
    "Use the following MAtrix for $U_f$:\n",
    "\n",
    "![Mach-Zehnder interferometer](ExampleUf.png)\n",
    "### My Answer is:"
   ]
  },
  {
   "cell_type": "code",
   "execution_count": null,
   "id": "dc86a95f-21ab-4683-944d-e498f82958a0",
   "metadata": {},
   "outputs": [],
   "source": [
    "# Punto 6"
   ]
  }
 ],
 "metadata": {
  "kernelspec": {
   "display_name": "Python 3 (ipykernel)",
   "language": "python",
   "name": "python3"
  },
  "language_info": {
   "codemirror_mode": {
    "name": "ipython",
    "version": 3
   },
   "file_extension": ".py",
   "mimetype": "text/x-python",
   "name": "python",
   "nbconvert_exporter": "python",
   "pygments_lexer": "ipython3",
   "version": "3.11.5"
  }
 },
 "nbformat": 4,
 "nbformat_minor": 5
}
